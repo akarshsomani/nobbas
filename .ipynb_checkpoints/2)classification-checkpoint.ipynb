{
 "cells": [
  {
   "cell_type": "code",
   "execution_count": 1,
   "metadata": {},
   "outputs": [],
   "source": [
    "import pandas as pd\n",
    "import numpy as np\n",
    "import matplotlib.pyplot as plt"
   ]
  },
  {
   "cell_type": "code",
   "execution_count": 2,
   "metadata": {},
   "outputs": [],
   "source": [
    "pd.set_option('display.max_rows', 500)\n",
    "pd.set_option('display.max_columns', 50)\n",
    "pd.set_option('display.width', 1000)"
   ]
  },
  {
   "cell_type": "code",
   "execution_count": 3,
   "metadata": {},
   "outputs": [],
   "source": [
    "df=pd.read_csv('cleaned_data.csv')"
   ]
  },
  {
   "cell_type": "code",
   "execution_count": 4,
   "metadata": {},
   "outputs": [
    {
     "data": {
      "text/html": [
       "<div>\n",
       "<style scoped>\n",
       "    .dataframe tbody tr th:only-of-type {\n",
       "        vertical-align: middle;\n",
       "    }\n",
       "\n",
       "    .dataframe tbody tr th {\n",
       "        vertical-align: top;\n",
       "    }\n",
       "\n",
       "    .dataframe thead th {\n",
       "        text-align: right;\n",
       "    }\n",
       "</style>\n",
       "<table border=\"1\" class=\"dataframe\">\n",
       "  <thead>\n",
       "    <tr style=\"text-align: right;\">\n",
       "      <th></th>\n",
       "      <th>Unnamed: 0</th>\n",
       "      <th>id</th>\n",
       "      <th>stateOrProvince</th>\n",
       "      <th>bathrooms</th>\n",
       "      <th>bedrooms</th>\n",
       "      <th>listPrice</th>\n",
       "      <th>livingArea</th>\n",
       "      <th>yearBuilt</th>\n",
       "      <th>lotSize</th>\n",
       "      <th>propertySubType</th>\n",
       "      <th>listingCategory</th>\n",
       "      <th>numParkingSpaces</th>\n",
       "      <th>photoscount</th>\n",
       "      <th>grade</th>\n",
       "    </tr>\n",
       "  </thead>\n",
       "  <tbody>\n",
       "    <tr>\n",
       "      <th>0</th>\n",
       "      <td>0</td>\n",
       "      <td>2698139</td>\n",
       "      <td>MO</td>\n",
       "      <td>6</td>\n",
       "      <td>5</td>\n",
       "      <td>425000.0</td>\n",
       "      <td>3046.0</td>\n",
       "      <td>1998.0</td>\n",
       "      <td>122417.000783</td>\n",
       "      <td>Single Family Detached</td>\n",
       "      <td>Purchase</td>\n",
       "      <td>3.0</td>\n",
       "      <td>29</td>\n",
       "      <td>awesome</td>\n",
       "    </tr>\n",
       "    <tr>\n",
       "      <th>1</th>\n",
       "      <td>1</td>\n",
       "      <td>2698093</td>\n",
       "      <td>MO</td>\n",
       "      <td>2</td>\n",
       "      <td>3</td>\n",
       "      <td>175000.0</td>\n",
       "      <td>1587.0</td>\n",
       "      <td>1962.0</td>\n",
       "      <td>7753.680000</td>\n",
       "      <td>Single Family Detached</td>\n",
       "      <td>Purchase</td>\n",
       "      <td>1.0</td>\n",
       "      <td>29</td>\n",
       "      <td>awesome</td>\n",
       "    </tr>\n",
       "    <tr>\n",
       "      <th>2</th>\n",
       "      <td>2</td>\n",
       "      <td>2698007</td>\n",
       "      <td>MO</td>\n",
       "      <td>3</td>\n",
       "      <td>3</td>\n",
       "      <td>295000.0</td>\n",
       "      <td>2437.0</td>\n",
       "      <td>1986.0</td>\n",
       "      <td>14766.840000</td>\n",
       "      <td>Condominium</td>\n",
       "      <td>Purchase</td>\n",
       "      <td>2.0</td>\n",
       "      <td>29</td>\n",
       "      <td>awesome</td>\n",
       "    </tr>\n",
       "    <tr>\n",
       "      <th>3</th>\n",
       "      <td>3</td>\n",
       "      <td>2697963</td>\n",
       "      <td>MO</td>\n",
       "      <td>2</td>\n",
       "      <td>3</td>\n",
       "      <td>215000.0</td>\n",
       "      <td>1780.0</td>\n",
       "      <td>1969.0</td>\n",
       "      <td>11848.320000</td>\n",
       "      <td>Single Family Detached</td>\n",
       "      <td>Purchase</td>\n",
       "      <td>2.0</td>\n",
       "      <td>29</td>\n",
       "      <td>awesome</td>\n",
       "    </tr>\n",
       "    <tr>\n",
       "      <th>4</th>\n",
       "      <td>4</td>\n",
       "      <td>2697938</td>\n",
       "      <td>MO</td>\n",
       "      <td>4</td>\n",
       "      <td>4</td>\n",
       "      <td>375000.0</td>\n",
       "      <td>3405.0</td>\n",
       "      <td>2007.0</td>\n",
       "      <td>10890.000000</td>\n",
       "      <td>Single Family Detached</td>\n",
       "      <td>Purchase</td>\n",
       "      <td>3.0</td>\n",
       "      <td>29</td>\n",
       "      <td>awesome</td>\n",
       "    </tr>\n",
       "  </tbody>\n",
       "</table>\n",
       "</div>"
      ],
      "text/plain": [
       "   Unnamed: 0       id stateOrProvince  bathrooms  bedrooms  listPrice  livingArea  yearBuilt        lotSize         propertySubType listingCategory  numParkingSpaces  photoscount    grade\n",
       "0           0  2698139              MO          6         5   425000.0      3046.0     1998.0  122417.000783  Single Family Detached        Purchase               3.0           29  awesome\n",
       "1           1  2698093              MO          2         3   175000.0      1587.0     1962.0    7753.680000  Single Family Detached        Purchase               1.0           29  awesome\n",
       "2           2  2698007              MO          3         3   295000.0      2437.0     1986.0   14766.840000             Condominium        Purchase               2.0           29  awesome\n",
       "3           3  2697963              MO          2         3   215000.0      1780.0     1969.0   11848.320000  Single Family Detached        Purchase               2.0           29  awesome\n",
       "4           4  2697938              MO          4         4   375000.0      3405.0     2007.0   10890.000000  Single Family Detached        Purchase               3.0           29  awesome"
      ]
     },
     "execution_count": 4,
     "metadata": {},
     "output_type": "execute_result"
    }
   ],
   "source": [
    "df.head()"
   ]
  },
  {
   "cell_type": "code",
   "execution_count": 5,
   "metadata": {},
   "outputs": [],
   "source": [
    "\n",
    "df = pd.concat([df,pd.get_dummies(df.listingCategory)],axis=1)\n",
    "df = pd.concat([df,pd.get_dummies(df.propertySubType)],axis=1)"
   ]
  },
  {
   "cell_type": "code",
   "execution_count": 6,
   "metadata": {},
   "outputs": [],
   "source": [
    "from sklearn.feature_extraction import FeatureHasher\n",
    "\n",
    "fh = FeatureHasher(n_features=6, input_type='string')\n",
    "hashed_features = fh.fit_transform(df['stateOrProvince'])\n",
    "hashed_features = hashed_features.toarray()\n",
    "df=pd.concat([df, pd.DataFrame(hashed_features)], axis=1)"
   ]
  },
  {
   "cell_type": "code",
   "execution_count": 7,
   "metadata": {},
   "outputs": [
    {
     "data": {
      "text/plain": [
       "{0: 'awesome', 1: 'bad', 2: 'good'}"
      ]
     },
     "execution_count": 7,
     "metadata": {},
     "output_type": "execute_result"
    }
   ],
   "source": [
    "from sklearn.preprocessing import LabelEncoder\n",
    "\n",
    "gle = LabelEncoder()\n",
    "genre_labels = gle.fit_transform(df['grade'])\n",
    "genre_mappings = {index: label for index, label in enumerate(gle.classes_)}\n",
    "genre_mappings"
   ]
  },
  {
   "cell_type": "code",
   "execution_count": 8,
   "metadata": {},
   "outputs": [],
   "source": [
    "df['grade']=genre_labels"
   ]
  },
  {
   "cell_type": "code",
   "execution_count": 9,
   "metadata": {},
   "outputs": [],
   "source": [
    "X=df.select_dtypes(exclude='object')\n",
    "y=X['grade']\n",
    "X=X.drop(['grade'],axis=1)"
   ]
  },
  {
   "cell_type": "code",
   "execution_count": 10,
   "metadata": {},
   "outputs": [],
   "source": [
    "from sklearn.model_selection import train_test_split\n",
    "X_train, X_test, y_train, y_test = train_test_split(X, y, test_size=0.2, random_state=42)"
   ]
  },
  {
   "cell_type": "code",
   "execution_count": 11,
   "metadata": {},
   "outputs": [
    {
     "data": {
      "text/plain": [
       "DecisionTreeClassifier(class_weight=None, criterion='gini', max_depth=None,\n",
       "            max_features=None, max_leaf_nodes=None,\n",
       "            min_impurity_decrease=0.0, min_impurity_split=None,\n",
       "            min_samples_leaf=1, min_samples_split=2,\n",
       "            min_weight_fraction_leaf=0.0, presort=False, random_state=0,\n",
       "            splitter='best')"
      ]
     },
     "execution_count": 11,
     "metadata": {},
     "output_type": "execute_result"
    }
   ],
   "source": [
    "from sklearn.tree import DecisionTreeClassifier\n",
    "clf = DecisionTreeClassifier(random_state=0)\n",
    "clf.fit(X_train,y_train)"
   ]
  },
  {
   "cell_type": "code",
   "execution_count": 12,
   "metadata": {},
   "outputs": [],
   "source": [
    "pred=clf.predict(X_test)"
   ]
  },
  {
   "cell_type": "code",
   "execution_count": 13,
   "metadata": {},
   "outputs": [
    {
     "data": {
      "text/plain": [
       "0.930379746835443"
      ]
     },
     "execution_count": 13,
     "metadata": {},
     "output_type": "execute_result"
    }
   ],
   "source": [
    "clf.score(X_test,y_test)"
   ]
  },
  {
   "cell_type": "markdown",
   "metadata": {},
   "source": [
    "# Thus we can conclude that decision tree works perfect with the data which we have."
   ]
  },
  {
   "cell_type": "code",
   "execution_count": null,
   "metadata": {},
   "outputs": [],
   "source": []
  }
 ],
 "metadata": {
  "kernelspec": {
   "display_name": "Python 3",
   "language": "python",
   "name": "python3"
  },
  "language_info": {
   "codemirror_mode": {
    "name": "ipython",
    "version": 3
   },
   "file_extension": ".py",
   "mimetype": "text/x-python",
   "name": "python",
   "nbconvert_exporter": "python",
   "pygments_lexer": "ipython3",
   "version": "3.6.5"
  }
 },
 "nbformat": 4,
 "nbformat_minor": 2
}
